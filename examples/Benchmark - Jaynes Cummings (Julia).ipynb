{
 "cells": [
  {
   "cell_type": "code",
   "execution_count": 3,
   "metadata": {
    "collapsed": false
   },
   "outputs": [],
   "source": [
    "using Quantumoptics"
   ]
  },
  {
   "cell_type": "code",
   "execution_count": 97,
   "metadata": {
    "collapsed": false
   },
   "outputs": [],
   "source": [
    "wc = 6.0  \n",
    "wa = 6.0\n",
    "g  = 0.3\n",
    "Nc = 400\n",
    "gamma = 0.05\n",
    "\n",
    "T = [0:0.25:1;];"
   ]
  },
  {
   "cell_type": "code",
   "execution_count": 98,
   "metadata": {
    "collapsed": false
   },
   "outputs": [
    {
     "name": "stdout",
     "output_type": "stream",
     "text": [
      "elapsed time: 0.006376704 seconds\n"
     ]
    }
   ],
   "source": [
    "tic()\n",
    "\n",
    "b_fock = FockBasis(Nc)\n",
    "b_spin = SpinBasis(1//2)\n",
    "\n",
    "a = destroy(b_fock)\n",
    "sm = sigmam(b_spin)\n",
    "\n",
    "Hfield = wc*dagger(a)*a\n",
    "Hspin = wa*dagger(sm)*sm\n",
    "Hint = g*(dagger(a)+a) ⊗ (dagger(sm)+sm)\n",
    "H = Hfield ⊗ identity(b_spin) + identity(b_fock) ⊗ Hspin + Hint\n",
    "\n",
    "J = [sqrt(gamma) * a ⊗ identity(b_spin)]\n",
    "\n",
    "psi0 = fockstate(b_fock, 0) ⊗ spinup(b_spin)\n",
    "\n",
    "toc();"
   ]
  },
  {
   "cell_type": "code",
   "execution_count": 99,
   "metadata": {
    "collapsed": false
   },
   "outputs": [
    {
     "name": "stdout",
     "output_type": "stream",
     "text": [
      "elapsed time: 5.065222589 seconds\n"
     ]
    }
   ],
   "source": [
    "tic()\n",
    "\n",
    "tout, psit = timeevolution.master(T, psi0, H, J);\n",
    "\n",
    "toc();"
   ]
  },
  {
   "cell_type": "code",
   "execution_count": null,
   "metadata": {
    "collapsed": true
   },
   "outputs": [],
   "source": []
  }
 ],
 "metadata": {
  "kernelspec": {
   "display_name": "Julia 0.4.1",
   "language": "julia",
   "name": "julia-0.4"
  },
  "language_info": {
   "file_extension": ".jl",
   "mimetype": "application/julia",
   "name": "julia",
   "version": "0.4.3"
  }
 },
 "nbformat": 4,
 "nbformat_minor": 0
}
