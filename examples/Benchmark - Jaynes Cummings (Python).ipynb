{
 "cells": [
  {
   "cell_type": "code",
   "execution_count": 21,
   "metadata": {
    "collapsed": true
   },
   "outputs": [],
   "source": [
    "from qutip import *\n",
    "from time import time\n",
    "import numpy"
   ]
  },
  {
   "cell_type": "code",
   "execution_count": 91,
   "metadata": {
    "collapsed": false
   },
   "outputs": [],
   "source": [
    "wc = 6.0  \n",
    "wa = 6.0\n",
    "g  = 0.3\n",
    "Nc = 400\n",
    "gamma = 0.05\n",
    "\n",
    "tlist = numpy.arange(0., 1.01, 0.25)"
   ]
  },
  {
   "cell_type": "code",
   "execution_count": 92,
   "metadata": {
    "collapsed": false
   },
   "outputs": [
    {
     "data": {
      "text/plain": [
       "0.024655818939208984"
      ]
     },
     "execution_count": 92,
     "metadata": {},
     "output_type": "execute_result"
    }
   ],
   "source": [
    "tic = time()\n",
    "\n",
    "for i in range(1):\n",
    "    a = tensor(destroy(Nc),qeye(2))\n",
    "    sm = tensor(qeye(Nc),sigmam())\n",
    "    H = wc*a.dag()*a+wa*sm.dag()*sm+g*(a.dag()+a)*(sm.dag()+sm)\n",
    "    c_ops = [numpy.sqrt(gamma) * a]\n",
    "    psi0 = tensor(basis(Nc,0), basis(2,1))\n",
    "\n",
    "toc = time()\n",
    "toc - tic"
   ]
  },
  {
   "cell_type": "code",
   "execution_count": 93,
   "metadata": {
    "collapsed": false
   },
   "outputs": [
    {
     "data": {
      "text/plain": [
       "11.434206008911133"
      ]
     },
     "execution_count": 93,
     "metadata": {},
     "output_type": "execute_result"
    }
   ],
   "source": [
    "tic = time()\n",
    "output = mesolve(H, psi0, tlist, c_ops, [])\n",
    "toc = time()\n",
    "toc - tic"
   ]
  },
  {
   "cell_type": "code",
   "execution_count": null,
   "metadata": {
    "collapsed": true
   },
   "outputs": [],
   "source": []
  }
 ],
 "metadata": {
  "kernelspec": {
   "display_name": "Python 3",
   "language": "python",
   "name": "python3"
  },
  "language_info": {
   "codemirror_mode": {
    "name": "ipython",
    "version": 3
   },
   "file_extension": ".py",
   "mimetype": "text/x-python",
   "name": "python",
   "nbconvert_exporter": "python",
   "pygments_lexer": "ipython3",
   "version": "3.5.1"
  }
 },
 "nbformat": 4,
 "nbformat_minor": 0
}
