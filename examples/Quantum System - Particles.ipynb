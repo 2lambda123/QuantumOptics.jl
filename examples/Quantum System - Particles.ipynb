{
 "cells": [
  {
   "cell_type": "code",
   "execution_count": 1,
   "metadata": {
    "collapsed": false
   },
   "outputs": [],
   "source": [
    "using quantumoptics"
   ]
  },
  {
   "cell_type": "code",
   "execution_count": null,
   "metadata": {
    "collapsed": false
   },
   "outputs": [],
   "source": [
    "N = 500\n",
    "xmin = -62.5\n",
    "xmax = 70.1\n",
    "\n",
    "basis_position = quantumoptics.particle.PositionBasis(xmin, xmax, N)\n",
    "basis_momentum = quantumoptics.particle.MomentumBasis(basis_position)\n",
    "\n",
    "xspan = quantumoptics.particle.samplepoints(basis_position)\n",
    "pspan = quantumoptics.particle.samplepoints(basis_momentum)\n",
    "\n",
    "x0 = 5.2\n",
    "p0 = -2.\n",
    "sigma = 1.\n",
    "sigma_x = sigma/sqrt(2)\n",
    "sigma_p = sigma*sqrt(2)\n",
    "\n",
    "psix0 = quantumoptics.particle.gaussianstate(basis_position, x0, p0, sigma)\n",
    "psix0_fft = quantumoptics.particle.transformation(basis_position, basis_momentum, psix0)\n",
    "psip0 = quantumoptics.particle.gaussianstate(basis_momentum, x0, p0, sigma)\n",
    "\n",
    "opx_p = quantumoptics.particle.momentumoperator(basis_position)\n",
    "opx_x = quantumoptics.particle.positionoperator(basis_position)\n",
    "\n",
    "opp_p = quantumoptics.particle.momentumoperator(basis_momentum)\n",
    "opp_x = quantumoptics.particle.positionoperator(basis_momentum)\n",
    "\n",
    "\n",
    "println(\"<p> = \", expect(opx_p, psix0))\n",
    "println(\"<x> = \", expect(opx_x, psix0))\n",
    "\n",
    "println(\"<p>fft = \", expect(opp_p, psix0_fft))\n",
    "println(\"<p>p0 = \", expect(opp_p, psip0))\n",
    "println(\"<x>fft = \", expect(opp_x, psix0_fft))\n",
    "println(\"<x>p0 = \", expect(opp_x, psip0))\n",
    "\n",
    "println(norm(psix0_fft))\n",
    "println(norm(psip0))\n",
    "\n",
    "np_x0fft = real(dagger(psix0_fft).data .* psix0_fft.data);\n",
    "np_p0 = real(dagger(psip0).data .* psip0.data);\n",
    "nothing\n",
    "# println(psix0_fft.data[100])\n",
    "# println(psip0.data[100])\n",
    "# println(abs(psix0_fft.data[100]))\n",
    "# println(abs(psip0.data[100]))"
   ]
  },
  {
   "cell_type": "code",
   "execution_count": null,
   "metadata": {
    "collapsed": false
   },
   "outputs": [],
   "source": [
    "psi_fft2 = Ket(basis_momentum)\n",
    "pspan = quantumoptics.particle.samplepoints(basis_momentum)\n",
    "xspan = quantumoptics.particle.samplepoints(basis_position)\n",
    "for i=1:N\n",
    "    psi_fft2.data[i] = sum(exp(-1im*pspan[i]*xspan).*psix0.data)/sqrt(N)\n",
    "end\n",
    "#print(abs(psi_fft2.data)- abs(psix0_fft.data))"
   ]
  },
  {
   "cell_type": "code",
   "execution_count": null,
   "metadata": {
    "collapsed": false
   },
   "outputs": [],
   "source": [
    "sum(psix0.data)/sqrt(N)"
   ]
  },
  {
   "cell_type": "code",
   "execution_count": null,
   "metadata": {
    "collapsed": false
   },
   "outputs": [],
   "source": [
    "MomentumBasis = quantumoptics.particle.MomentumBasis\n",
    "PositionBasis = quantumoptics.particle.PositionBasis\n",
    "spacing = quantumoptics.particle.spacing\n",
    "samplepoints = quantumoptics.particle.samplepoints\n",
    "\n",
    "function transformation(b1::MomentumBasis, b2::PositionBasis, psi::Ket)\n",
    "    Lp = (b1.pmax - b1.pmin)\n",
    "    dx = spacing(b2)\n",
    "    if b1.N != b2.N || abs(2*pi/dx - Lp)/Lp > 1e-12\n",
    "        throw(IncompatibleBases())\n",
    "    end\n",
    "    N = b1.N\n",
    "    psi_shifted = exp(1im*b2.xmin*(samplepoints(b1)-b1.pmin)).*psi.data\n",
    "    psi_fft = exp(1im*b1.pmin*samplepoints(b2)).*ifft(psi_shifted)*sqrt(N)\n",
    "    return Ket(b2, psi_fft)\n",
    "end\n",
    "\n",
    "function transformation(b1::PositionBasis, b2::MomentumBasis, psi::Ket)\n",
    "    Lx = (b1.xmax - b1.xmin)\n",
    "    dp = spacing(b2)\n",
    "    if b1.N != b2.N || abs(2*pi/dp - Lx)/Lx > 1e-12\n",
    "        throw(IncompatibleBases())\n",
    "    end\n",
    "    N = b1.N\n",
    "    psi_shifted = exp(-1im*b2.pmin*(samplepoints(b1)-b1.xmin)).*psi.data\n",
    "    psi_fft = exp(-1im*b1.xmin*samplepoints(b2)).*fft(psi_shifted)/sqrt(N)\n",
    "    return Ket(b2, psi_fft)\n",
    "end\n",
    "\n",
    "psix0_fft2 = transformation(basis_position, basis_momentum, psix0)\n",
    "println(maximum(abs(psix0_fft2.data) - abs(psip0.data)))\n",
    "# psi2 = transformation(basis_momentum, basis_position, psi_fft2)\n",
    "# nx2_ = real(dagger(psi2).data .* psi2.data)\n",
    "# np2 = real(dagger(psi_fft2).data .* psi_fft2.data);"
   ]
  },
  {
   "cell_type": "code",
   "execution_count": 3,
   "metadata": {
    "collapsed": false
   },
   "outputs": [],
   "source": [
    "using PyPlot"
   ]
  },
  {
   "cell_type": "code",
   "execution_count": null,
   "metadata": {
    "collapsed": false
   },
   "outputs": [],
   "source": [
    "subplot(2,1,1)\n",
    "plot(pspan, angle(psip0.data))\n",
    "plot(pspan, angle(psix0_fft2.data))\n",
    "plot(pspan, angle(psi_fft2.data))\n",
    "# plot(xspan, nx)\n",
    "# plot(xspan, nx_)\n",
    "# plot(xspan, nx2_)\n",
    "subplot(2,1,2)\n",
    "plot(pspan, np_x0fft)\n",
    "plot(pspan, np_p0)"
   ]
  },
  {
   "cell_type": "code",
   "execution_count": null,
   "metadata": {
    "collapsed": false
   },
   "outputs": [],
   "source": [
    "println(norm(psip0 - psix0_fft2))\n",
    "println(norm(psip0 - psi_fft2))"
   ]
  },
  {
   "cell_type": "code",
   "execution_count": null,
   "metadata": {
    "collapsed": true
   },
   "outputs": [],
   "source": []
  }
 ],
 "metadata": {
  "kernelspec": {
   "display_name": "Julia 0.4.0-dev",
   "language": "julia",
   "name": "julia-0.4"
  },
  "language_info": {
   "name": "julia",
   "version": "0.4.0"
  }
 },
 "nbformat": 4,
 "nbformat_minor": 0
}
