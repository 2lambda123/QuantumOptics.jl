{
 "cells": [
  {
   "cell_type": "markdown",
   "metadata": {},
   "source": [
    "$$\n",
    "X = \\sum_{kl} a^\\dagger_k a_l \\left\\langle u_k \\right| x \\left|u_l\\right\\rangle\n",
    "    \\\\\n",
    "    \\left\\langle\\{m\\}\\right| X \\left|\\{n\\}\\right\\rangle\n",
    "      = \\sum_{kl} \\left\\langle\\{m\\}\\right| a^\\dagger_k a_l \\left|\\{n\\}\\right\\rangle\n",
    "                  \\left\\langle u_k \\right| x \\left|u_l\\right\\rangle\n",
    "    \\\\\n",
    "    \\left|i\\right\\rangle \\equiv \\left|\\{n\\}\\right\\rangle\n",
    "$$"
   ]
  },
  {
   "cell_type": "code",
   "execution_count": 1,
   "metadata": {
    "collapsed": false
   },
   "outputs": [],
   "source": [
    "using Quantumoptics"
   ]
  },
  {
   "cell_type": "code",
   "execution_count": 3,
   "metadata": {
    "collapsed": false
   },
   "outputs": [
    {
     "data": {
      "text/plain": [
       "Quantumoptics.nparticles.FermionicNParticleBasis([15],4,Quantumoptics.subspace.SubspaceBasis([6],Quantumoptics.particle.PositionBasis([100],-5.0,5.0,100),[Quantumoptics.states.Ket(Quantumoptics.particle.PositionBasis([100],-5.0,5.0,100),Complex{Float64}[1.20746e-6-1.25291e-7im,1.19284e-6-1.23774e-7im,2.53835e-6-2.6339e-7im,3.61853e-6-3.75474e-7im,6.11402e-6-6.34416e-7im,9.36493e-6-9.71743e-7im,1.48288e-5-1.5387e-6im,2.27484e-5-2.36046e-6im,3.49321e-5-3.6247e-6im,5.28044e-5-5.4792e-6im  …  7.93734e-5-8.23611e-6im,5.26684e-5-5.46509e-6im,3.51059e-5-3.64273e-6im,2.25356e-5-2.33839e-6im,1.51067e-5-1.56753e-6im,9.02415e-6-9.36383e-7im,6.56952e-6-6.8168e-7im,3.0507e-6-3.16553e-7im,3.2191e-6-3.34027e-7im,-5.20858e-7+5.40464e-8im]),Quantumoptics.states.Ket(Quantumoptics.particle.PositionBasis([100],-5.0,5.0,100),Complex{Float64}[-0.000132973-0.000147224im,7.48412e-5+8.28619e-5im,-0.000166009-0.0001838im,0.000176648+0.00019558im,-0.000259705-0.000287537im,0.000322074+0.00035659im,-0.000430747-0.00047691im,0.000549821+0.000608745im,-0.000712734-0.000789117im,0.000908612+0.00100599im  …  -0.0011619-0.00128642im,0.000904483+0.00100142im,-0.000719812-0.000796953im,0.000540645+0.000598586im,-0.000446109-0.000493918im,0.000300942+0.000333194im,-0.000294512-0.000326074im,0.000127421+0.000141077im,-0.000239199-0.000264834im,2.24062e-5+2.48075e-5im]),Quantumoptics.states.Ket(Quantumoptics.particle.PositionBasis([100],-5.0,5.0,100),Complex{Float64}[-3.29276e-6+8.04558e-6im,-3.10692e-6+7.5915e-6im,-6.62615e-6+1.61905e-5im,-9.11245e-6+2.22655e-5im,-1.52141e-5+3.71743e-5im,-2.26585e-5+5.53642e-5im,-3.52054e-5+8.60216e-5im,-5.26584e-5+0.000128667im,-7.90801e-5+0.000193226im,-0.00011659+0.000284878im  …  0.000171147-0.000418184im,0.000116191-0.000283904im,7.95838e-5-0.000194457im,5.20559e-5-0.000127194im,3.59856e-5-8.79279e-5im,2.17243e-5-5.30816e-5im,1.6456e-5-4.02089e-5im,7.60306e-6-1.85775e-5im,8.43337e-6-2.06063e-5im,-1.35842e-6+3.31918e-6im]),Quantumoptics.states.Ket(Quantumoptics.particle.PositionBasis([100],-5.0,5.0,100),Complex{Float64}[0.000280774-0.00104496im,-0.000144036+0.000536061im,0.000337578-0.00125637im,-0.00033695+0.00125403im,0.00050086-0.00186406im,-0.000596552+0.0022202im,0.000790662-0.00294263im,-0.000979812+0.00364659im,0.00124785-0.00464415im,-0.00155004+0.00576881im  …  -0.00194393+0.00723476im,0.00153863-0.00572634im,-0.00126676+0.00471451im,0.000956978-0.00356161im,-0.000827861+0.00308107im,0.000548533-0.00204149im,-0.000577963+0.00215102im,0.000233845-0.000870308im,-0.000487491+0.00181431im,4.47942e-5-0.000166712im]),Quantumoptics.states.Ket(Quantumoptics.particle.PositionBasis([100],-5.0,5.0,100),Complex{Float64}[-3.05618e-5-3.08238e-5im,-2.72025e-5-2.74357e-5im,-5.86654e-5-5.91684e-5im,-7.70906e-5-7.77515e-5im,-0.000127948-0.000129045im,-0.00018402-0.000185597im,-0.000281538-0.000283951im,-0.000408531-0.000412033im,-0.000601077-0.00060623im,-0.000860853-0.000868232im  …  -0.00123306-0.00124363im,-0.000858585-0.000865945im,-0.00060466-0.000609843im,-0.000403812-0.000407273im,-0.000288087-0.000290556im,-0.000175987-0.000177496im,-0.000138833-0.000140023im,-6.38671e-5-6.44146e-5im,-7.44456e-5-7.50838e-5im,1.19511e-5+1.20535e-5im]),Quantumoptics.states.Ket(Quantumoptics.particle.PositionBasis([100],-5.0,5.0,100),Complex{Float64}[-2.94443e-5+0.000169056im,-2.50121e-5+0.000143608im,-5.40366e-5+0.000310254im,-6.83249e-5+0.000392291im,-0.000111863+0.000642265im,-0.000156106+0.000896294im,-0.000233615+0.00134131im,-0.000329971+0.00189455im,-0.000472863+0.00271497im,-0.000659302+0.00378542im  …  0.000920406-0.00528457im,0.000654946-0.00376041im,0.000478201-0.00274562im,0.000324005-0.00186029im,0.000241204-0.00138489im,0.000147611-0.000847515im,0.000123096-0.000706761im,5.5602e-5-0.000319242im,6.93982e-5-0.000398454im,-1.10595e-5+6.3499e-5im])],0x4a3ccf2ea4280547),[[1,1,1,1,0,0],[1,1,1,0,1,0],[1,1,1,0,0,1],[1,1,0,1,1,0],[1,1,0,1,0,1],[1,1,0,0,1,1],[1,0,1,1,1,0],[1,0,1,1,0,1],[1,0,1,0,1,1],[1,0,0,1,1,1],[0,1,1,1,1,0],[0,1,1,1,0,1],[0,1,1,0,1,1],[0,1,0,1,1,1],[0,0,1,1,1,1]],0x44585be415ae7b75)"
      ]
     },
     "execution_count": 3,
     "metadata": {},
     "output_type": "execute_result"
    }
   ],
   "source": [
    "m = 1.\n",
    "ω = 1.\n",
    "\n",
    "b_position = PositionBasis(-5, 5, 50)\n",
    "\n",
    "x = positionoperator(b_position)\n",
    "p = momentumoperator(b_position)\n",
    "H = p^2/2m + 1/2*m*ω^2*x^2\n",
    "Hint = (x ⊗ idenity(b_position) - identity ⊗ x)^2\n",
    "\n",
    "Nstates = 6\n",
    "b_particle = subspace.orthonormalize(SubspaceBasis(eigenbasis(H, Nmax=Nstates)));\n",
    "T = projector(b_particle, b_position)\n",
    "H_particle = T*H*dagger(T)\n",
    "H_int_particle = (T ⊗ T) * Hint * (dagger(T) ⊗ dagger(T))\n",
    "\n",
    "Nparticles = 4\n",
    "b_nparticles = FermionicNParticleBasis(Nparticles, b_particle)\n",
    "\n",
    "\n"
   ]
  },
  {
   "cell_type": "code",
   "execution_count": null,
   "metadata": {
    "collapsed": true
   },
   "outputs": [],
   "source": []
  }
 ],
 "metadata": {
  "kernelspec": {
   "display_name": "Julia 0.4.1",
   "language": "julia",
   "name": "julia-0.4"
  },
  "language_info": {
   "file_extension": ".jl",
   "mimetype": "application/julia",
   "name": "julia",
   "version": "0.4.3"
  }
 },
 "nbformat": 4,
 "nbformat_minor": 0
}
